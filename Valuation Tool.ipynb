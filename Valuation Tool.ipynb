{
 "cells": [
  {
   "cell_type": "code",
   "execution_count": 158,
   "id": "d73c580d",
   "metadata": {},
   "outputs": [],
   "source": [
    "from sklearn.datasets import load_boston\n",
    "from sklearn.linear_model import LinearRegression\n",
    "from sklearn.metrics import mean_squared_error\n",
    "\n",
    "import pandas as pd\n",
    "import numpy as np"
   ]
  },
  {
   "cell_type": "code",
   "execution_count": 159,
   "id": "f3fec27b",
   "metadata": {},
   "outputs": [],
   "source": [
    "boston_dataset = load_boston()\n",
    "\n",
    "data = pd.DataFrame(boston_dataset.data, columns=boston_dataset.feature_names)\n",
    "features = data.drop(['INDUS', 'AGE'], 1)\n",
    "\n",
    "log_prices = np.log(boston_dataset.target)\n",
    "target = pd.DataFrame(log_prices, columns=['PRICE'])\n",
    "\n",
    "# Take property stats as the mean of existing dataset to get the average value of houses\n",
    "CRIM = 0\n",
    "ZN = 1\n",
    "CHAS = 2\n",
    "NOX = 3\n",
    "RM = 4\n",
    "DIS = 5\n",
    "RAD = 6\n",
    "TAX = 7\n",
    "PTRATIO = 8\n",
    "LSTAT = 10\n",
    "\n",
    "property_stats = np.ndarray(shape=(1,11))  \n",
    "property_stats = features.mean().values.reshape(1, 11)"
   ]
  },
  {
   "cell_type": "code",
   "execution_count": 160,
   "id": "18ea316c",
   "metadata": {},
   "outputs": [],
   "source": [
    "reg = LinearRegression()\n",
    "reg.fit(features, target)\n",
    "\n",
    "fitted_vals = reg.predict(features)\n",
    "mse = mean_squared_error(target, fitted_vals)\n",
    "rmse = np.sqrt(mse)"
   ]
  },
  {
   "cell_type": "code",
   "execution_count": 161,
   "id": "b708df20",
   "metadata": {},
   "outputs": [],
   "source": [
    "def get_price_estimate(nr_rooms, \n",
    "                     students_per_classroom, \n",
    "                     distance_from,\n",
    "                     next_to_river = False,\n",
    "                     high_confidence = True):\n",
    "    \"\"\"Estimate house prices in boston with the help of following params:-\n",
    "    _______________________________________________________________________\n",
    "    \n",
    "    Keyword arguements:\n",
    "    nr_rooms: Number of rooms\n",
    "    students_per_classroom: Houses near schools where the ratio of teacher with student\n",
    "    next_to_river: Houses next to Charles river\n",
    "    high_confidence: If True, give variance of 68% and 95% if False\"\"\"\n",
    "    \n",
    "    if(nr_rooms <1) or (students_per_classroom<0):\n",
    "        print('Unable to estimate with unrealistic values')\n",
    "        return\n",
    "    \n",
    "    # Configure Property\n",
    "    property_stats[0][RM] = nr_rooms\n",
    "    property_stats[0][PTRATIO] = students_per_classroom\n",
    "    property_stats[0][DIS] = distance_from/1000\n",
    "    \n",
    "    if next_to_river:\n",
    "        property_stats[0][CHAS] = 1\n",
    "    else:\n",
    "        property_stats[0][CHAS] = 0\n",
    "        \n",
    "    # Estimate preditions\n",
    "    log_estimate = reg.predict(property_stats)[0][0]\n",
    "    \n",
    "    if high_confidence:\n",
    "        upper_bound = log_estimate + 2*rmse\n",
    "        lower_bound = log_estimate - 2*rmse\n",
    "        interval = 95\n",
    "    else:\n",
    "        upper_bound = log_estimate + rmse\n",
    "        lower_bound = log_estimate - rmse\n",
    "        interval = 68\n",
    "        \n",
    "    # Convert the values in todays values\n",
    "    TODAYS_MEDIAN_PRICE = 583.3\n",
    "    SCALE_FACTOR = TODAYS_MEDIAN_PRICE/np.median(boston_dataset.target)\n",
    "    \n",
    "    hi = round(np.e**upper_bound * 1000 * SCALE_FACTOR, -2)\n",
    "    low = round(np.e**lower_bound * 1000 * SCALE_FACTOR, -2)\n",
    "    act = round(np.e**log_estimate * 1000 * SCALE_FACTOR, -2)\n",
    "    \n",
    "    print('Upper Bound in dollar is : $',hi)\n",
    "    print('Actual estimation in dollar is : $',act)\n",
    "    print('Lower Bound in dollar is : $',low)\n",
    "    print(f'Interval is {interval}')"
   ]
  }
 ],
 "metadata": {
  "kernelspec": {
   "display_name": "Python 3 (ipykernel)",
   "language": "python",
   "name": "python3"
  },
  "language_info": {
   "codemirror_mode": {
    "name": "ipython",
    "version": 3
   },
   "file_extension": ".py",
   "mimetype": "text/x-python",
   "name": "python",
   "nbconvert_exporter": "python",
   "pygments_lexer": "ipython3",
   "version": "3.9.5"
  }
 },
 "nbformat": 4,
 "nbformat_minor": 5
}
